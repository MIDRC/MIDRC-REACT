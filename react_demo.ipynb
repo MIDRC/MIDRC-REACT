{
 "cells": [
  {
   "metadata": {},
   "cell_type": "markdown",
   "source": [
    "#  Copyright (c) 2025 Medical Imaging and Data Resource Center (MIDRC).\n",
    "#\n",
    "#      Licensed under the Apache License, Version 2.0 (the \"License\");\n",
    "#      you may not use this file except in compliance with the License.\n",
    "#      You may obtain a copy of the License at\n",
    "#\n",
    "#         http://www.apache.org/licenses/LICENSE-2.0\n",
    "#\n",
    "#      Unless required by applicable law or agreed to in writing, software\n",
    "#      distributed under the License is distributed on an \"AS IS\" BASIS,\n",
    "#      WITHOUT WARRANTIES OR CONDITIONS OF ANY KIND, either express or implied.\n",
    "#      See the License for the specific language governing permissions and\n",
    "#      limitations under the License.\n",
    "#"
   ],
   "id": "b1f52b03895fb882"
  },
  {
   "cell_type": "code",
   "id": "13255c4a805349a",
   "metadata": {
    "ExecuteTime": {
     "end_time": "2025-02-19T02:13:00.736591Z",
     "start_time": "2025-02-19T02:12:58.699860Z"
    }
   },
   "source": [
    "from core.jsdconfig import JSDConfig\n",
    "from core.jsdcontroller import JSDController\n",
    "from core.jsdmodel import JSDTableModel\n",
    "from gui.ipython.jsdview_ipython import JsdViewIPython\n",
    "\n",
    "config = JSDConfig()\n",
    "jsd_model = JSDTableModel(None, config.data.get('custom age ranges', None))\n",
    "jsd_view = JsdViewIPython(jsd_model)\n",
    "jsd_controller = JSDController(jsd_view, jsd_model, config)\n",
    "for data_source in config.data['data sources']:\n",
    "    print(f\"Loading: {data_source['description']}...\")\n",
    "    jsd_view.open_excel_file(data_source)\n",
    "\n",
    "print(\"Done Loading Files\")\n",
    "\n",
    "jsd_view.dataselectiongroupbox.update_file_comboboxes()\n",
    "\n",
    "display(jsd_view.dataselectiongroupbox.display(), jsd_view.output_timeline)"
   ],
   "outputs": [
    {
     "ename": "ModuleNotFoundError",
     "evalue": "No module named 'matplotlib'",
     "output_type": "error",
     "traceback": [
      "\u001B[1;31m---------------------------------------------------------------------------\u001B[0m",
      "\u001B[1;31mModuleNotFoundError\u001B[0m                       Traceback (most recent call last)",
      "Cell \u001B[1;32mIn[1], line 4\u001B[0m\n\u001B[0;32m      2\u001B[0m \u001B[38;5;28;01mfrom\u001B[39;00m \u001B[38;5;21;01mcore\u001B[39;00m\u001B[38;5;21;01m.\u001B[39;00m\u001B[38;5;21;01mjsdcontroller\u001B[39;00m \u001B[38;5;28;01mimport\u001B[39;00m JSDController\n\u001B[0;32m      3\u001B[0m \u001B[38;5;28;01mfrom\u001B[39;00m \u001B[38;5;21;01mcore\u001B[39;00m\u001B[38;5;21;01m.\u001B[39;00m\u001B[38;5;21;01mjsdmodel\u001B[39;00m \u001B[38;5;28;01mimport\u001B[39;00m JSDTableModel\n\u001B[1;32m----> 4\u001B[0m \u001B[38;5;28;01mfrom\u001B[39;00m \u001B[38;5;21;01mgui\u001B[39;00m\u001B[38;5;21;01m.\u001B[39;00m\u001B[38;5;21;01mipython\u001B[39;00m\u001B[38;5;21;01m.\u001B[39;00m\u001B[38;5;21;01mjsdview_ipython\u001B[39;00m \u001B[38;5;28;01mimport\u001B[39;00m JsdViewIPython\n\u001B[0;32m      6\u001B[0m config \u001B[38;5;241m=\u001B[39m JSDConfig()\n\u001B[0;32m      7\u001B[0m jsd_model \u001B[38;5;241m=\u001B[39m JSDTableModel(\u001B[38;5;28;01mNone\u001B[39;00m, config\u001B[38;5;241m.\u001B[39mdata\u001B[38;5;241m.\u001B[39mget(\u001B[38;5;124m'\u001B[39m\u001B[38;5;124mcustom age ranges\u001B[39m\u001B[38;5;124m'\u001B[39m, \u001B[38;5;28;01mNone\u001B[39;00m))\n",
      "File \u001B[1;32m~\\PycharmProjects\\MIDRC_Diversity_Calculator\\gui\\ipython\\jsdview_ipython.py:17\u001B[0m\n\u001B[0;32m      1\u001B[0m \u001B[38;5;66;03m#  Copyright (c) 2025 Medical Imaging and Data Resource Center (MIDRC).\u001B[39;00m\n\u001B[0;32m      2\u001B[0m \u001B[38;5;66;03m#\u001B[39;00m\n\u001B[0;32m      3\u001B[0m \u001B[38;5;66;03m#      Licensed under the Apache License, Version 2.0 (the \"License\");\u001B[39;00m\n\u001B[1;32m   (...)\u001B[0m\n\u001B[0;32m     13\u001B[0m \u001B[38;5;66;03m#      limitations under the License.\u001B[39;00m\n\u001B[0;32m     14\u001B[0m \u001B[38;5;66;03m#\u001B[39;00m\n\u001B[0;32m     16\u001B[0m \u001B[38;5;28;01mfrom\u001B[39;00m \u001B[38;5;21;01mPySide6\u001B[39;00m\u001B[38;5;21;01m.\u001B[39;00m\u001B[38;5;21;01mQtCore\u001B[39;00m \u001B[38;5;28;01mimport\u001B[39;00m Signal, QDate\n\u001B[1;32m---> 17\u001B[0m \u001B[38;5;28;01mimport\u001B[39;00m \u001B[38;5;21;01mmatplotlib\u001B[39;00m\u001B[38;5;21;01m.\u001B[39;00m\u001B[38;5;21;01mpyplot\u001B[39;00m \u001B[38;5;28;01mas\u001B[39;00m \u001B[38;5;21;01mplt\u001B[39;00m\n\u001B[0;32m     18\u001B[0m \u001B[38;5;28;01mimport\u001B[39;00m \u001B[38;5;21;01mseaborn\u001B[39;00m \u001B[38;5;28;01mas\u001B[39;00m \u001B[38;5;21;01msns\u001B[39;00m\n\u001B[0;32m     19\u001B[0m \u001B[38;5;28;01mimport\u001B[39;00m \u001B[38;5;21;01mipywidgets\u001B[39;00m \u001B[38;5;28;01mas\u001B[39;00m \u001B[38;5;21;01mwidgets\u001B[39;00m\n",
      "\u001B[1;31mModuleNotFoundError\u001B[0m: No module named 'matplotlib'"
     ]
    }
   ],
   "execution_count": 1
  },
  {
   "cell_type": "code",
   "execution_count": 2,
   "id": "091f89e9-f77e-4548-a8b9-0c88cb4415f1",
   "metadata": {},
   "outputs": [
    {
     "data": {
      "application/vnd.jupyter.widget-view+json": {
       "model_id": "39a058749e4946c7b95189146c7ed347",
       "version_major": 2,
       "version_minor": 0
      },
      "text/plain": [
       "Output(outputs=({'output_type': 'display_data', 'data': {'text/plain': \"VBox(children=(FigureWidget({\\n    'da…"
      ]
     },
     "metadata": {},
     "output_type": "display_data"
    }
   ],
   "source": [
    "display(jsd_view.output_area_chart)"
   ]
  },
  {
   "cell_type": "code",
   "execution_count": 3,
   "id": "initial_id",
   "metadata": {
    "ExecuteTime": {
     "end_time": "2024-11-25T14:42:07.985504Z",
     "start_time": "2024-11-25T14:42:07.912281Z"
    }
   },
   "outputs": [
    {
     "data": {
      "application/vnd.jupyter.widget-view+json": {
       "model_id": "29526c9c851845acb90a202e446ba3ed",
       "version_major": 2,
       "version_minor": 0
      },
      "text/plain": [
       "VBox(children=(Dropdown(description='Attribute:', options=('Age at Index', 'Race and Ethnicity', 'Sex', 'Race'…"
      ]
     },
     "metadata": {},
     "output_type": "display_data"
    },
    {
     "data": {
      "application/vnd.jupyter.widget-view+json": {
       "model_id": "019fa1f236ac4620ac92f0b60e3284d9",
       "version_major": 2,
       "version_minor": 0
      },
      "text/plain": [
       "Button(description='Plot Timeline Chart', style=ButtonStyle())"
      ]
     },
     "metadata": {},
     "output_type": "display_data"
    },
    {
     "data": {
      "application/vnd.jupyter.widget-view+json": {
       "model_id": "d0f7546ae38e4aac8375f32bdc47d92e",
       "version_major": 2,
       "version_minor": 0
      },
      "text/plain": [
       "Output()"
      ]
     },
     "metadata": {},
     "output_type": "display_data"
    }
   ],
   "source": [
    "import ipywidgets as widgets\n",
    "from IPython.display import display\n",
    "\n",
    "# Define button to trigger the timeline chart plotting\n",
    "plot_button = widgets.Button(description='Plot Timeline Chart')\n",
    "output_timeline = widgets.Output()\n",
    "\n",
    "def on_plot_button_clicked(b):\n",
    "    with output_timeline:\n",
    "        output_timeline.clear_output(wait=True)\n",
    "        #jsd_view_base.update_jsd_timeline_plot(jsd_table_model)\n",
    "        jsd_controller.category_changed()\n",
    "\n",
    "plot_button.on_click(on_plot_button_clicked)\n",
    "\n",
    "# Connect the category change signal to automatically update the chart\n",
    "# jsd_view.dataselectiongroupbox.category_changed.connect(jsd_controller.category_changed)\n",
    "# data_selection_groupbox.category_changed.connect(on_plot_button_clicked)\n",
    "\n",
    "jsd_view.dataselectiongroupbox.update_file_comboboxes()\n",
    "\n",
    "# Display the widgets\n",
    "display(jsd_view.dataselectiongroupbox.display(), plot_button, output_timeline)\n"
   ]
  },
  {
   "cell_type": "code",
   "execution_count": 3,
   "id": "33bd0d3a-6921-4bfb-aefd-c9c59d623b41",
   "metadata": {},
   "outputs": [
    {
     "data": {
      "text/plain": [
       "{'name': 'MIDRC',\n",
       " 'description': 'MIDRC Excel File',\n",
       " 'data type': 'file',\n",
       " 'filename': 'MIDRC Open A1 and R1 - cumulative by batch.xlsx',\n",
       " 'remove column name text': ['(CUSUM)']}"
      ]
     },
     "metadata": {},
     "output_type": "display_data"
    },
    {
     "data": {
      "text/plain": [
       "[{'description': 'MIDRC Excel File',\n",
       "  'source_id': 'MIDRC',\n",
       "  'index': 0,\n",
       "  'checked': True},\n",
       " {'description': 'CDC Excel File',\n",
       "  'source_id': 'CDC',\n",
       "  'index': 1,\n",
       "  'checked': True}]"
      ]
     },
     "metadata": {},
     "output_type": "display_data"
    }
   ],
   "source": [
    "#display(jsd_view_base.dataselectiongroupbox.get_file_infos())\n",
    "#display(jsd_view_base.dataselectiongroupbox.get_category_info())\n",
    "#display(jsd_view_base.dataselectiongroupbox.get_category_info()['current_text'])\n",
    "#display(jsd_view_base.dataselectiongroupbox.category_combobox.value)\n",
    "display(jsd_table_model.data_sources['MIDRC'].data_source)\n",
    "\n",
    "#jsd_view_base.dataselectiongroupbox.on_file_selection_changed(None)\n",
    "display(jsd_view_base.dataselectiongroupbox.file_infos)"
   ]
  }
 ],
 "metadata": {
  "kernelspec": {
   "display_name": "Python 3 (ipykernel)",
   "language": "python",
   "name": "python3"
  },
  "language_info": {
   "codemirror_mode": {
    "name": "ipython",
    "version": 3
   },
   "file_extension": ".py",
   "mimetype": "text/x-python",
   "name": "python",
   "nbconvert_exporter": "python",
   "pygments_lexer": "ipython3",
   "version": "3.12.3"
  }
 },
 "nbformat": 4,
 "nbformat_minor": 5
}
