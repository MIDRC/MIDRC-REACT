{
 "cells": [
  {
   "cell_type": "code",
   "execution_count": 1,
   "id": "13255c4a805349a",
   "metadata": {
    "ExecuteTime": {
     "end_time": "2024-11-26T15:37:36.590933Z",
     "start_time": "2024-11-26T15:37:33.594244Z"
    }
   },
   "outputs": [
    {
     "name": "stdout",
     "output_type": "stream",
     "text": [
      "Loading: MIDRC Excel File...\n",
      "Loading: CDC Excel File...\n",
      "Loading: Census Excel File...\n",
      "Loading: MIDRC COVID+ Excel File...\n",
      "Done Loading Files\n",
      "Connecting signals for IPython...\n",
      "updating category list from dataselectiongroupbox.update_category_combobox using None if in ['Age at Index', 'Sex', 'Race', 'Ethnicity', 'Race and Ethnicity']\n",
      "Plotting timeline chart...\n",
      "Processing: MIDRC\n",
      "        date  0-4 years  5-11 years  12-15 years  16-17 years  18-29 years  \\\n",
      "0 2021-08-04          0           3            1            1           16   \n",
      "1 2021-08-20          0           3            1            1           53   \n",
      "2 2021-08-23          1           7           13           11          117   \n",
      "3 2021-08-27         21          16           20           14          171   \n",
      "4 2021-09-02         21          16           20           14          189   \n",
      "\n",
      "   30-39 years  40-49 years  50-64 years  65-74 years  75-84 years  85+ years  \\\n",
      "0           20           27           65           28           23         12   \n",
      "1           69           73          207          138           95         63   \n",
      "2          135          161          450          268          189        105   \n",
      "3          232          304          845          523          346        156   \n",
      "4          257          317          907          565          378        176   \n",
      "\n",
      "   Not reported  0-17 Custom  18-49 Custom  50-64 Custom  65-inf Custom  \n",
      "0             0            5            63            65             63  \n",
      "1             0            5           195           207            296  \n",
      "2             0           32           413           450            562  \n",
      "3             0           71           707           845           1025  \n",
      "4             0           71           763           907           1119  \n",
      "Processing: CDC\n",
      "        date  0 - 17 years  18 to 49 years  50 to 64 years  65+ years  \\\n",
      "0 2020-01-31            28             489             171        340   \n",
      "1 2020-02-29            28             904             588        734   \n",
      "2 2020-03-31          4917          174625          103892      75335   \n",
      "3 2020-04-30         27573          547805          305329     267540   \n",
      "4 2020-05-31         75090          926011          458363     391029   \n",
      "\n",
      "   Not reported  0-17 Custom  18-49 Custom  50-64 Custom  65-inf Custom  \n",
      "0          3196           28           489           171            340  \n",
      "1          5082           28           904           588            734  \n",
      "2         23996         4917        174625        103892          75335  \n",
      "3         45855        27573        547805        305329         267540  \n",
      "4         67052        75090        926011        458363         391029  \n",
      "done with this step\n",
      "Plotting area charts...\n",
      "done with this step\n",
      "Plotting timeline chart...\n",
      "Processing: MIDRC\n",
      "        date  0-4 years  5-11 years  12-15 years  16-17 years  18-29 years  \\\n",
      "0 2021-08-04          0           3            1            1           16   \n",
      "1 2021-08-20          0           3            1            1           53   \n",
      "2 2021-08-23          1           7           13           11          117   \n",
      "3 2021-08-27         21          16           20           14          171   \n",
      "4 2021-09-02         21          16           20           14          189   \n",
      "\n",
      "   30-39 years  40-49 years  50-64 years  65-74 years  75-84 years  85+ years  \\\n",
      "0           20           27           65           28           23         12   \n",
      "1           69           73          207          138           95         63   \n",
      "2          135          161          450          268          189        105   \n",
      "3          232          304          845          523          346        156   \n",
      "4          257          317          907          565          378        176   \n",
      "\n",
      "   Not reported  0-17 Custom  18-49 Custom  50-64 Custom  65-inf Custom  \n",
      "0             0            5            63            65             63  \n",
      "1             0            5           195           207            296  \n",
      "2             0           32           413           450            562  \n",
      "3             0           71           707           845           1025  \n",
      "4             0           71           763           907           1119  \n",
      "Processing: CDC\n",
      "        date  0 - 17 years  18 to 49 years  50 to 64 years  65+ years  \\\n",
      "0 2020-01-31            28             489             171        340   \n",
      "1 2020-02-29            28             904             588        734   \n",
      "2 2020-03-31          4917          174625          103892      75335   \n",
      "3 2020-04-30         27573          547805          305329     267540   \n",
      "4 2020-05-31         75090          926011          458363     391029   \n",
      "\n",
      "   Not reported  0-17 Custom  18-49 Custom  50-64 Custom  65-inf Custom  \n",
      "0          3196           28           489           171            340  \n",
      "1          5082           28           904           588            734  \n",
      "2         23996         4917        174625        103892          75335  \n",
      "3         45855        27573        547805        305329         267540  \n",
      "4         67052        75090        926011        458363         391029  \n",
      "done with this step\n",
      "Plotting area charts...\n",
      "done with this step\n"
     ]
    },
    {
     "data": {
      "application/vnd.jupyter.widget-view+json": {
       "model_id": "9848be144aab4f95a08065c4e20d498f",
       "version_major": 2,
       "version_minor": 0
      },
      "text/plain": [
       "VBox(children=(Dropdown(description='Attribute:', options=('Age at Index', 'Sex', 'Race', 'Ethnicity', 'Race a…"
      ]
     },
     "metadata": {},
     "output_type": "display_data"
    },
    {
     "data": {
      "application/vnd.jupyter.widget-view+json": {
       "model_id": "b95593c480414f6bb9c3904923773961",
       "version_major": 2,
       "version_minor": 0
      },
      "text/plain": [
       "Output()"
      ]
     },
     "metadata": {},
     "output_type": "display_data"
    }
   ],
   "source": [
    "from jsdconfig import JSDConfig\n",
    "from jsdcontroller import JSDController\n",
    "from jsdmodel import JSDTableModel\n",
    "from ipython.jsdview_ipython import JsdViewIPython\n",
    "\n",
    "import ipywidgets as widgets\n",
    "\n",
    "# import importlib\n",
    "# importlib.reload(jsdview_base)\n",
    "# importlib.reload(jsdcontroller)\n",
    "\n",
    "config = JSDConfig()\n",
    "data_source_list = config.data['data sources']\n",
    "jsd_table_model = JSDTableModel(None, config.data.get('custom age ranges', None))\n",
    "jsd_view = JsdViewIPython(jsd_table_model)\n",
    "for data_source in data_source_list:\n",
    "    print(f\"Loading: {data_source['description']}...\")\n",
    "    jsd_view.open_excel_file(data_source)\n",
    "\n",
    "print(\"Done Loading Files\")\n",
    "\n",
    "jsd_controller = JSDController(jsd_view, jsd_table_model, config)\n",
    "        \n",
    "jsd_view.dataselectiongroupbox.update_file_comboboxes()\n",
    "\n",
    "display(jsd_view.dataselectiongroupbox.display(), jsd_view.output_timeline)\n"
   ]
  },
  {
   "cell_type": "code",
   "execution_count": 2,
   "id": "091f89e9-f77e-4548-a8b9-0c88cb4415f1",
   "metadata": {},
   "outputs": [
    {
     "data": {
      "application/vnd.jupyter.widget-view+json": {
       "model_id": "d45c07d993234bc797e6e804e3184930",
       "version_major": 2,
       "version_minor": 0
      },
      "text/plain": [
       "Output(outputs=({'output_type': 'display_data', 'data': {'text/plain': '<Figure size 1000x1200 with 2 Axes>', …"
      ]
     },
     "metadata": {},
     "output_type": "display_data"
    }
   ],
   "source": [
    "display(jsd_view.output_area_chart)"
   ]
  },
  {
   "cell_type": "code",
   "execution_count": 3,
   "id": "initial_id",
   "metadata": {
    "ExecuteTime": {
     "end_time": "2024-11-25T14:42:07.985504Z",
     "start_time": "2024-11-25T14:42:07.912281Z"
    }
   },
   "outputs": [
    {
     "data": {
      "application/vnd.jupyter.widget-view+json": {
       "model_id": "29526c9c851845acb90a202e446ba3ed",
       "version_major": 2,
       "version_minor": 0
      },
      "text/plain": [
       "VBox(children=(Dropdown(description='Attribute:', options=('Age at Index', 'Race and Ethnicity', 'Sex', 'Race'…"
      ]
     },
     "metadata": {},
     "output_type": "display_data"
    },
    {
     "data": {
      "application/vnd.jupyter.widget-view+json": {
       "model_id": "019fa1f236ac4620ac92f0b60e3284d9",
       "version_major": 2,
       "version_minor": 0
      },
      "text/plain": [
       "Button(description='Plot Timeline Chart', style=ButtonStyle())"
      ]
     },
     "metadata": {},
     "output_type": "display_data"
    },
    {
     "data": {
      "application/vnd.jupyter.widget-view+json": {
       "model_id": "d0f7546ae38e4aac8375f32bdc47d92e",
       "version_major": 2,
       "version_minor": 0
      },
      "text/plain": [
       "Output()"
      ]
     },
     "metadata": {},
     "output_type": "display_data"
    }
   ],
   "source": [
    "import ipywidgets as widgets\n",
    "from IPython.display import display\n",
    "import matplotlib.pyplot as plt\n",
    "import seaborn as sns\n",
    "import numpy as np\n",
    "import pandas as pd\n",
    "from jsdcontroller import JSDController  # Assuming the backend JSDController is accessible\n",
    "from PySide6.QtCore import Signal, QObject\n",
    "\n",
    "# Define button to trigger the timeline chart plotting\n",
    "plot_button = widgets.Button(description='Plot Timeline Chart')\n",
    "output_timeline = widgets.Output()\n",
    "\n",
    "def on_plot_button_clicked(b):\n",
    "    with output_timeline:\n",
    "        output_timeline.clear_output(wait=True)\n",
    "        #jsd_view_base.update_jsd_timeline_plot(jsd_table_model)\n",
    "        jsd_controller.category_changed()\n",
    "\n",
    "plot_button.on_click(on_plot_button_clicked)\n",
    "\n",
    "# Connect the category change signal to automatically update the chart\n",
    "# jsd_view.dataselectiongroupbox.category_changed.connect(jsd_controller.category_changed)\n",
    "# data_selection_groupbox.category_changed.connect(on_plot_button_clicked)\n",
    "\n",
    "jsd_view.dataselectiongroupbox.update_file_comboboxes()\n",
    "\n",
    "# Display the widgets\n",
    "display(jsd_view.dataselectiongroupbox.display(), plot_button, output_timeline)\n"
   ]
  },
  {
   "cell_type": "code",
   "execution_count": 3,
   "id": "33bd0d3a-6921-4bfb-aefd-c9c59d623b41",
   "metadata": {},
   "outputs": [
    {
     "data": {
      "text/plain": [
       "{'name': 'MIDRC',\n",
       " 'description': 'MIDRC Excel File',\n",
       " 'data type': 'file',\n",
       " 'filename': 'MIDRC Open A1 and R1 - cumulative by batch.xlsx',\n",
       " 'remove column name text': ['(CUSUM)']}"
      ]
     },
     "metadata": {},
     "output_type": "display_data"
    },
    {
     "data": {
      "text/plain": [
       "[{'description': 'MIDRC Excel File',\n",
       "  'source_id': 'MIDRC',\n",
       "  'index': 0,\n",
       "  'checked': True},\n",
       " {'description': 'CDC Excel File',\n",
       "  'source_id': 'CDC',\n",
       "  'index': 1,\n",
       "  'checked': True}]"
      ]
     },
     "metadata": {},
     "output_type": "display_data"
    }
   ],
   "source": [
    "#display(jsd_view_base.dataselectiongroupbox.get_file_infos())\n",
    "#display(jsd_view_base.dataselectiongroupbox.get_category_info())\n",
    "#display(jsd_view_base.dataselectiongroupbox.get_category_info()['current_text'])\n",
    "#display(jsd_view_base.dataselectiongroupbox.category_combobox.value)\n",
    "display(jsd_table_model.data_sources['MIDRC'].data_source)\n",
    "\n",
    "#jsd_view_base.dataselectiongroupbox.on_file_selection_changed(None)\n",
    "display(jsd_view_base.dataselectiongroupbox.file_infos)"
   ]
  }
 ],
 "metadata": {
  "kernelspec": {
   "display_name": "Python 3 (ipykernel)",
   "language": "python",
   "name": "python3"
  },
  "language_info": {
   "codemirror_mode": {
    "name": "ipython",
    "version": 3
   },
   "file_extension": ".py",
   "mimetype": "text/x-python",
   "name": "python",
   "nbconvert_exporter": "python",
   "pygments_lexer": "ipython3",
   "version": "3.12.3"
  }
 },
 "nbformat": 4,
 "nbformat_minor": 5
}
