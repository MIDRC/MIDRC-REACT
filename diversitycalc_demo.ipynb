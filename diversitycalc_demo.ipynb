{
 "cells": [
  {
   "metadata": {
    "ExecuteTime": {
     "end_time": "2024-11-22T23:08:44.616084Z",
     "start_time": "2024-11-22T23:08:38.194898Z"
    }
   },
   "cell_type": "code",
   "source": [
    "# import jsdview_base\n",
    "# import jsdcontroller\n",
    "from jsdconfig import JSDConfig\n",
    "from jsdcontroller import JSDController\n",
    "from jsdmodel import JSDTableModel\n",
    "from jsdview_base import JsdViewBase\n",
    "\n",
    "# import importlib\n",
    "# importlib.reload(jsdview_base)\n",
    "# importlib.reload(jsdcontroller)\n",
    "\n",
    "config = JSDConfig()\n",
    "jsd_view_base = JsdViewBase()\n",
    "data_source_list = config.data['data sources']\n",
    "for data_source in data_source_list:\n",
    "    print(data_source)\n",
    "    jsd_view_base.open_excel_file(data_source)\n",
    "# w = JsdWindow(data_source_list)  # Note: We should have the controller populate this once the tablemodel is loaded\n",
    "jsd_table_model = JSDTableModel(data_source_list, config.data.get('custom age ranges', None))\n",
    "jsd_controller = JSDController(jsd_view_base, jsd_table_model, config)\n"
   ],
   "id": "13255c4a805349a",
   "outputs": [
    {
     "name": "stdout",
     "output_type": "stream",
     "text": [
      "{'name': 'MIDRC', 'description': 'MIDRC Excel File', 'data type': 'file', 'filename': 'MIDRC Open A1 and R1 - cumulative by batch.xlsx', 'remove column name text': ['(CUSUM)']}\n",
      "{'name': 'CDC', 'description': 'CDC Excel File', 'data type': 'file', 'filename': 'CDC_COVIDpos - cumulative by month.xlsx'}\n",
      "{'name': 'Census', 'description': 'Census Excel File', 'data type': 'file', 'filename': 'Census_all.xlsx', 'date': '2020-01-01'}\n",
      "{'name': 'MIDRC COVID+', 'description': 'MIDRC COVID+ Excel File', 'data type': 'file', 'filename': 'MIDRC Open A1 and R1 COVIDpos only - cumulative by batch.xlsx', 'remove column name text': ['(CUSUM)']}\n"
     ]
    }
   ],
   "execution_count": 8
  },
  {
   "metadata": {
    "collapsed": true,
    "ExecuteTime": {
     "end_time": "2024-11-25T14:34:13.915246Z",
     "start_time": "2024-11-25T14:34:13.835871Z"
    }
   },
   "cell_type": "code",
   "source": [
    "import ipywidgets as widgets\n",
    "from IPython.display import display\n",
    "import matplotlib.pyplot as plt\n",
    "import seaborn as sns\n",
    "import numpy as np\n",
    "import pandas as pd\n",
    "from ipywidgets import VBox, HBox, Label\n",
    "from jsdcontroller import JSDController  # Assuming the backend JSDController is accessible\n",
    "from PySide6.QtCore import Signal, QObject\n",
    "\n",
    "# Define the data selection group box\n",
    "class DataSelectionGroupBox(QObject):\n",
    "    category_changed = Signal(str)\n",
    "    file_selection_changed = Signal()\n",
    "\n",
    "    def __init__(self, jsd_controller):\n",
    "        super().__init__()\n",
    "        self.jsd_controller = jsd_controller\n",
    "        self.file_comboboxes = []\n",
    "        self.category_combobox = widgets.Dropdown(\n",
    "            options=[],\n",
    "            value=None,\n",
    "            description='Attribute:',\n",
    "            disabled=True,\n",
    "        )\n",
    "        self.layout = VBox()\n",
    "        self._setup_layout()\n",
    "        self._initialize_data_sources()\n",
    "\n",
    "        # Connect signals\n",
    "        self.category_combobox.observe(self.on_category_changed, names='value')\n",
    "        for combobox in self.file_comboboxes:\n",
    "            combobox.observe(self.on_file_selection_changed, names='value')\n",
    "\n",
    "    def _setup_layout(self):\n",
    "        self.layout.children = [self.category_combobox]\n",
    "\n",
    "    def _initialize_data_sources(self):\n",
    "        # Initialize file comboboxes based on data sources from JSDController\n",
    "        data_sources = self.jsd_controller.jsd_model.data_sources\n",
    "        for index, data_source_key in enumerate(list(data_sources.keys())[:2]):\n",
    "            combobox = widgets.Dropdown(\n",
    "                options=list([ds_key for ds_key in data_sources.keys()]),\n",
    "                value=data_source_key,\n",
    "                description=f'Data Source {index + 1}:',\n",
    "                disabled=False\n",
    "            )\n",
    "            self.file_comboboxes.append(combobox)\n",
    "            self.layout.children += (combobox,)\n",
    "            combobox.observe(self.on_file_selection_changed, names='value')\n",
    "\n",
    "        # Initialize category combobox based on the current data selection\n",
    "        if self.file_comboboxes:\n",
    "            self.update_category_combobox()\n",
    "\n",
    "    def update_category_combobox(self):\n",
    "        # Update category combobox based on selected data sources\n",
    "        selected_sheets = [combobox.value for combobox in self.file_comboboxes]\n",
    "        common_categories = set.intersection(*[set(self.jsd_controller.jsd_model.data_sources[combobox.value].sheets.keys()) for combobox in self.file_comboboxes])\n",
    "        self.category_combobox.options = list(common_categories)\n",
    "        self.category_combobox.disabled = False\n",
    "\n",
    "    def on_category_changed(self, change):\n",
    "        self.category_changed.emit(change['new'])\n",
    "\n",
    "    def on_file_selection_changed(self, change):\n",
    "        self.file_selection_changed.emit()\n",
    "        self.update_category_combobox()\n",
    "\n",
    "    def display(self):\n",
    "        return self.layout\n",
    "\n",
    "# Create instance of DataSelectionGroupBox\n",
    "data_selection_groupbox = DataSelectionGroupBox(jsd_controller)\n",
    "\n",
    "# Define a function to plot the timeline chart\n",
    "def plot_timeline_chart():\n",
    "    print(\"Plotting timeline chart...\")\n",
    "    plt.figure(figsize=(10, 6))\n",
    "    category = data_selection_groupbox.category_combobox.value\n",
    "    for combobox in data_selection_groupbox.file_comboboxes:\n",
    "        if combobox.value:\n",
    "            try:\n",
    "                print(f\"Processing: {combobox.value}\")\n",
    "                file_data = jsd_controller.jsd_model.data_sources[combobox.value].sheets[category].df\n",
    "                print(file_data.head())  # Debug to see if file_data is accessible\n",
    "                if file_data.empty:\n",
    "                    print(f\"No data available for {combobox.value} and category {category}. Skipping.\")\n",
    "                    continue  # Skip empty data\n",
    "                sns.lineplot(data=file_data, x=file_data.index, y=category, label=f'{combobox.value}: {category}')\n",
    "            except Exception as e:\n",
    "                print(f\"An error occurred while processing {combobox.value}: {e}\")\n",
    "    print('done with this step')\n",
    "    plt.xlabel('Index')\n",
    "    plt.ylabel('Values')\n",
    "    plt.title('JSD Timeline Chart')\n",
    "    plt.grid(True)\n",
    "    plt.legend()\n",
    "    plt.show()\n",
    "    plt.close()\n",
    "\n",
    "# Define button to trigger the timeline chart plotting\n",
    "plot_button = widgets.Button(description='Plot Timeline Chart')\n",
    "output_timeline = widgets.Output()\n",
    "\n",
    "def on_plot_button_clicked(b):\n",
    "    with output_timeline:\n",
    "        output_timeline.clear_output(wait=True)\n",
    "        plot_timeline_chart()\n",
    "\n",
    "plot_button.on_click(on_plot_button_clicked)\n",
    "\n",
    "# Connect the category change signal to automatically update the chart\n",
    "data_selection_groupbox.category_changed.connect(on_plot_button_clicked)\n",
    "\n",
    "# Display the widgets\n",
    "display(data_selection_groupbox.display(), plot_button, output_timeline)\n"
   ],
   "id": "initial_id",
   "outputs": [
    {
     "data": {
      "text/plain": [
       "VBox(children=(Dropdown(description='Attribute:', options=('Sex', 'Race', 'Ethnicity', 'Race and Ethnicity', '…"
      ],
      "application/vnd.jupyter.widget-view+json": {
       "version_major": 2,
       "version_minor": 0,
       "model_id": "60713fcec1b9467a96fbf9e274fcb1bb"
      }
     },
     "metadata": {},
     "output_type": "display_data"
    },
    {
     "data": {
      "text/plain": [
       "Button(description='Plot Timeline Chart', style=ButtonStyle())"
      ],
      "application/vnd.jupyter.widget-view+json": {
       "version_major": 2,
       "version_minor": 0,
       "model_id": "52a12a4e901a4299953429bcb7dc6f87"
      }
     },
     "metadata": {},
     "output_type": "display_data"
    },
    {
     "data": {
      "text/plain": [
       "Output()"
      ],
      "application/vnd.jupyter.widget-view+json": {
       "version_major": 2,
       "version_minor": 0,
       "model_id": "4512722fe65745639364066dfc28b7d6"
      }
     },
     "metadata": {},
     "output_type": "display_data"
    }
   ],
   "execution_count": 23
  }
 ],
 "metadata": {
  "kernelspec": {
   "display_name": "Python 3",
   "language": "python",
   "name": "python3"
  },
  "language_info": {
   "codemirror_mode": {
    "name": "ipython",
    "version": 2
   },
   "file_extension": ".py",
   "mimetype": "text/x-python",
   "name": "python",
   "nbconvert_exporter": "python",
   "pygments_lexer": "ipython2",
   "version": "2.7.6"
  }
 },
 "nbformat": 4,
 "nbformat_minor": 5
}
