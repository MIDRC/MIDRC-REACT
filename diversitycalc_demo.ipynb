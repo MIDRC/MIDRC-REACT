{
 "cells": [
  {
   "cell_type": "code",
   "execution_count": 1,
   "id": "13255c4a805349a",
   "metadata": {
    "ExecuteTime": {
     "end_time": "2024-11-26T15:37:36.590933Z",
     "start_time": "2024-11-26T15:37:33.594244Z"
    }
   },
   "outputs": [
    {
     "name": "stdout",
     "output_type": "stream",
     "text": [
      "Loading: MIDRC Excel File...\n",
      "Loading: CDC Excel File...\n",
      "Loading: Census Excel File...\n",
      "Loading: MIDRC COVID+ Excel File...\n",
      "Done Loading Files\n"
     ]
    },
    {
     "data": {
      "application/vnd.jupyter.widget-view+json": {
       "model_id": "b354845123064d85a87c1262f31899e0",
       "version_major": 2,
       "version_minor": 0
      },
      "text/plain": [
       "VBox(children=(HBox(children=(Dropdown(description='Attribute:', options=('Age at Index', 'Sex', 'Race', 'Ethn…"
      ]
     },
     "metadata": {},
     "output_type": "display_data"
    },
    {
     "data": {
      "application/vnd.jupyter.widget-view+json": {
       "model_id": "3fad251c116340ad9dc6c0a324f6f97d",
       "version_major": 2,
       "version_minor": 0
      },
      "text/plain": [
       "Output()"
      ]
     },
     "metadata": {},
     "output_type": "display_data"
    }
   ],
   "source": [
    "from jsdconfig import JSDConfig\n",
    "from jsdcontroller import JSDController\n",
    "from jsdmodel import JSDTableModel\n",
    "from ipython.jsdview_ipython import JsdViewIPython\n",
    "\n",
    "config = JSDConfig()\n",
    "jsd_model = JSDTableModel(None, config.data.get('custom age ranges', None))\n",
    "jsd_view = JsdViewIPython(jsd_model)\n",
    "jsd_controller = JSDController(jsd_view, jsd_model, config)\n",
    "for data_source in config.data['data sources']:\n",
    "    print(f\"Loading: {data_source['description']}...\")\n",
    "    jsd_view.open_excel_file(data_source)\n",
    "\n",
    "print(\"Done Loading Files\")\n",
    "\n",
    "jsd_view.dataselectiongroupbox.update_file_comboboxes()\n",
    "\n",
    "display(jsd_view.dataselectiongroupbox.display(), jsd_view.output_timeline)"
   ]
  },
  {
   "cell_type": "code",
   "execution_count": 2,
   "id": "091f89e9-f77e-4548-a8b9-0c88cb4415f1",
   "metadata": {},
   "outputs": [
    {
     "data": {
      "application/vnd.jupyter.widget-view+json": {
       "model_id": "128d43c8a0384a2390ea80efe350788b",
       "version_major": 2,
       "version_minor": 0
      },
      "text/plain": [
       "Output(outputs=({'output_type': 'display_data', 'data': {'text/plain': \"VBox(children=(FigureWidget({\\n    'da…"
      ]
     },
     "metadata": {},
     "output_type": "display_data"
    }
   ],
   "source": [
    "display(jsd_view.output_area_chart)"
   ]
  },
  {
   "cell_type": "code",
   "execution_count": 3,
   "id": "initial_id",
   "metadata": {
    "ExecuteTime": {
     "end_time": "2024-11-25T14:42:07.985504Z",
     "start_time": "2024-11-25T14:42:07.912281Z"
    }
   },
   "outputs": [
    {
     "data": {
      "application/vnd.jupyter.widget-view+json": {
       "model_id": "29526c9c851845acb90a202e446ba3ed",
       "version_major": 2,
       "version_minor": 0
      },
      "text/plain": [
       "VBox(children=(Dropdown(description='Attribute:', options=('Age at Index', 'Race and Ethnicity', 'Sex', 'Race'…"
      ]
     },
     "metadata": {},
     "output_type": "display_data"
    },
    {
     "data": {
      "application/vnd.jupyter.widget-view+json": {
       "model_id": "019fa1f236ac4620ac92f0b60e3284d9",
       "version_major": 2,
       "version_minor": 0
      },
      "text/plain": [
       "Button(description='Plot Timeline Chart', style=ButtonStyle())"
      ]
     },
     "metadata": {},
     "output_type": "display_data"
    },
    {
     "data": {
      "application/vnd.jupyter.widget-view+json": {
       "model_id": "d0f7546ae38e4aac8375f32bdc47d92e",
       "version_major": 2,
       "version_minor": 0
      },
      "text/plain": [
       "Output()"
      ]
     },
     "metadata": {},
     "output_type": "display_data"
    }
   ],
   "source": [
    "import ipywidgets as widgets\n",
    "from IPython.display import display\n",
    "import matplotlib.pyplot as plt\n",
    "import seaborn as sns\n",
    "import numpy as np\n",
    "import pandas as pd\n",
    "from jsdcontroller import JSDController  # Assuming the backend JSDController is accessible\n",
    "from PySide6.QtCore import Signal, QObject\n",
    "\n",
    "# Define button to trigger the timeline chart plotting\n",
    "plot_button = widgets.Button(description='Plot Timeline Chart')\n",
    "output_timeline = widgets.Output()\n",
    "\n",
    "def on_plot_button_clicked(b):\n",
    "    with output_timeline:\n",
    "        output_timeline.clear_output(wait=True)\n",
    "        #jsd_view_base.update_jsd_timeline_plot(jsd_table_model)\n",
    "        jsd_controller.category_changed()\n",
    "\n",
    "plot_button.on_click(on_plot_button_clicked)\n",
    "\n",
    "# Connect the category change signal to automatically update the chart\n",
    "# jsd_view.dataselectiongroupbox.category_changed.connect(jsd_controller.category_changed)\n",
    "# data_selection_groupbox.category_changed.connect(on_plot_button_clicked)\n",
    "\n",
    "jsd_view.dataselectiongroupbox.update_file_comboboxes()\n",
    "\n",
    "# Display the widgets\n",
    "display(jsd_view.dataselectiongroupbox.display(), plot_button, output_timeline)\n"
   ]
  },
  {
   "cell_type": "code",
   "execution_count": 3,
   "id": "33bd0d3a-6921-4bfb-aefd-c9c59d623b41",
   "metadata": {},
   "outputs": [
    {
     "data": {
      "text/plain": [
       "{'name': 'MIDRC',\n",
       " 'description': 'MIDRC Excel File',\n",
       " 'data type': 'file',\n",
       " 'filename': 'MIDRC Open A1 and R1 - cumulative by batch.xlsx',\n",
       " 'remove column name text': ['(CUSUM)']}"
      ]
     },
     "metadata": {},
     "output_type": "display_data"
    },
    {
     "data": {
      "text/plain": [
       "[{'description': 'MIDRC Excel File',\n",
       "  'source_id': 'MIDRC',\n",
       "  'index': 0,\n",
       "  'checked': True},\n",
       " {'description': 'CDC Excel File',\n",
       "  'source_id': 'CDC',\n",
       "  'index': 1,\n",
       "  'checked': True}]"
      ]
     },
     "metadata": {},
     "output_type": "display_data"
    }
   ],
   "source": [
    "#display(jsd_view_base.dataselectiongroupbox.get_file_infos())\n",
    "#display(jsd_view_base.dataselectiongroupbox.get_category_info())\n",
    "#display(jsd_view_base.dataselectiongroupbox.get_category_info()['current_text'])\n",
    "#display(jsd_view_base.dataselectiongroupbox.category_combobox.value)\n",
    "display(jsd_table_model.data_sources['MIDRC'].data_source)\n",
    "\n",
    "#jsd_view_base.dataselectiongroupbox.on_file_selection_changed(None)\n",
    "display(jsd_view_base.dataselectiongroupbox.file_infos)"
   ]
  }
 ],
 "metadata": {
  "kernelspec": {
   "display_name": "Python 3 (ipykernel)",
   "language": "python",
   "name": "python3"
  },
  "language_info": {
   "codemirror_mode": {
    "name": "ipython",
    "version": 3
   },
   "file_extension": ".py",
   "mimetype": "text/x-python",
   "name": "python",
   "nbconvert_exporter": "python",
   "pygments_lexer": "ipython3",
   "version": "3.12.3"
  }
 },
 "nbformat": 4,
 "nbformat_minor": 5
}
