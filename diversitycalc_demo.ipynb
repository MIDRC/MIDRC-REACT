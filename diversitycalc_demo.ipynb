{
 "cells": [
  {
   "metadata": {
    "ExecuteTime": {
     "end_time": "2024-11-20T18:21:16.387961Z",
     "start_time": "2024-11-20T18:21:12.731758Z"
    }
   },
   "cell_type": "code",
   "source": [
    "from jsdconfig import JSDConfig\n",
    "from jsdcontroller import JSDController\n",
    "from jsdmodel import JSDTableModel\n",
    "\n",
    "config = JSDConfig()\n",
    "data_source_list = config.data['data sources']\n",
    "# w = JsdWindow(data_source_list)  # Note: We should have the controller populate this once the tablemodel is loaded\n",
    "jsd_controller = JSDController(None,\n",
    "                               JSDTableModel(data_source_list, config.data.get('custom age ranges', None)),\n",
    "                               config)"
   ],
   "id": "13255c4a805349a",
   "outputs": [
    {
     "ename": "AttributeError",
     "evalue": "'NoneType' object has no attribute 'add_data_source'",
     "output_type": "error",
     "traceback": [
      "\u001B[1;31m---------------------------------------------------------------------------\u001B[0m",
      "\u001B[1;31mAttributeError\u001B[0m                            Traceback (most recent call last)",
      "Cell \u001B[1;32mIn[1], line 8\u001B[0m\n\u001B[0;32m      6\u001B[0m data_source_list \u001B[38;5;241m=\u001B[39m config\u001B[38;5;241m.\u001B[39mdata[\u001B[38;5;124m'\u001B[39m\u001B[38;5;124mdata sources\u001B[39m\u001B[38;5;124m'\u001B[39m]\n\u001B[0;32m      7\u001B[0m \u001B[38;5;66;03m# w = JsdWindow(data_source_list)  # Note: We should have the controller populate this once the tablemodel is loaded\u001B[39;00m\n\u001B[1;32m----> 8\u001B[0m jsd_controller \u001B[38;5;241m=\u001B[39m \u001B[43mJSDController\u001B[49m\u001B[43m(\u001B[49m\u001B[38;5;28;43;01mNone\u001B[39;49;00m\u001B[43m,\u001B[49m\n\u001B[0;32m      9\u001B[0m \u001B[43m                               \u001B[49m\u001B[43mJSDTableModel\u001B[49m\u001B[43m(\u001B[49m\u001B[43mdata_source_list\u001B[49m\u001B[43m,\u001B[49m\u001B[43m \u001B[49m\u001B[43mconfig\u001B[49m\u001B[38;5;241;43m.\u001B[39;49m\u001B[43mdata\u001B[49m\u001B[38;5;241;43m.\u001B[39;49m\u001B[43mget\u001B[49m\u001B[43m(\u001B[49m\u001B[38;5;124;43m'\u001B[39;49m\u001B[38;5;124;43mcustom age ranges\u001B[39;49m\u001B[38;5;124;43m'\u001B[39;49m\u001B[43m,\u001B[49m\u001B[43m \u001B[49m\u001B[38;5;28;43;01mNone\u001B[39;49;00m\u001B[43m)\u001B[49m\u001B[43m)\u001B[49m\u001B[43m,\u001B[49m\n\u001B[0;32m     10\u001B[0m \u001B[43m                               \u001B[49m\u001B[43mconfig\u001B[49m\u001B[43m)\u001B[49m\n",
      "File \u001B[1;32m~\\PycharmProjects\\MIDRC_Diversity_Calculator\\jsdcontroller.py:64\u001B[0m, in \u001B[0;36mJSDController.__init__\u001B[1;34m(self, jsd_view, jsd_model, config)\u001B[0m\n\u001B[0;32m     61\u001B[0m \u001B[38;5;28mself\u001B[39m\u001B[38;5;241m.\u001B[39m_jsd_model \u001B[38;5;241m=\u001B[39m jsd_model\n\u001B[0;32m     62\u001B[0m \u001B[38;5;28mself\u001B[39m\u001B[38;5;241m.\u001B[39m_config \u001B[38;5;241m=\u001B[39m config\n\u001B[1;32m---> 64\u001B[0m \u001B[38;5;28;43mself\u001B[39;49m\u001B[38;5;241;43m.\u001B[39;49m\u001B[43minitialize\u001B[49m\u001B[43m(\u001B[49m\u001B[43m)\u001B[49m\n",
      "File \u001B[1;32m~\\PycharmProjects\\MIDRC_Diversity_Calculator\\jsdcontroller.py:73\u001B[0m, in \u001B[0;36mJSDController.initialize\u001B[1;34m(self)\u001B[0m\n\u001B[0;32m     66\u001B[0m \u001B[38;5;28;01mdef\u001B[39;00m \u001B[38;5;21minitialize\u001B[39m(\u001B[38;5;28mself\u001B[39m):\n\u001B[0;32m     67\u001B[0m \u001B[38;5;250m    \u001B[39m\u001B[38;5;124;03m\"\"\"\u001B[39;00m\n\u001B[0;32m     68\u001B[0m \u001B[38;5;124;03m    Initialize the JSDController.\u001B[39;00m\n\u001B[0;32m     69\u001B[0m \n\u001B[0;32m     70\u001B[0m \u001B[38;5;124;03m    Returns:\u001B[39;00m\n\u001B[0;32m     71\u001B[0m \u001B[38;5;124;03m        None\u001B[39;00m\n\u001B[0;32m     72\u001B[0m \u001B[38;5;124;03m    \"\"\"\u001B[39;00m\n\u001B[1;32m---> 73\u001B[0m     \u001B[38;5;28;43mself\u001B[39;49m\u001B[38;5;241;43m.\u001B[39;49m\u001B[43mconnect_signals\u001B[49m\u001B[43m(\u001B[49m\u001B[43m)\u001B[49m\n\u001B[0;32m     74\u001B[0m     \u001B[38;5;28mself\u001B[39m\u001B[38;5;241m.\u001B[39mfile_changed(\u001B[38;5;28;01mNone\u001B[39;00m, newcategoryindex\u001B[38;5;241m=\u001B[39m\u001B[38;5;241m0\u001B[39m)\n",
      "File \u001B[1;32m~\\PycharmProjects\\MIDRC_Diversity_Calculator\\jsdcontroller.py:81\u001B[0m, in \u001B[0;36mJSDController.connect_signals\u001B[1;34m(self)\u001B[0m\n\u001B[0;32m     77\u001B[0m \u001B[38;5;250m\u001B[39m\u001B[38;5;124;03m\"\"\"\u001B[39;00m\n\u001B[0;32m     78\u001B[0m \u001B[38;5;124;03mConnects signals for file and category comboboxes.\u001B[39;00m\n\u001B[0;32m     79\u001B[0m \u001B[38;5;124;03m\"\"\"\u001B[39;00m\n\u001B[0;32m     80\u001B[0m jsd_view \u001B[38;5;241m=\u001B[39m \u001B[38;5;28mself\u001B[39m\u001B[38;5;241m.\u001B[39mjsd_view  \u001B[38;5;66;03m# Store the result of jsd_view() in a variable\u001B[39;00m\n\u001B[1;32m---> 81\u001B[0m \u001B[43mjsd_view\u001B[49m\u001B[38;5;241;43m.\u001B[39;49m\u001B[43madd_data_source\u001B[49m\u001B[38;5;241m.\u001B[39mconnect(\u001B[38;5;28mself\u001B[39m\u001B[38;5;241m.\u001B[39mjsd_model\u001B[38;5;241m.\u001B[39madd_data_source)\n\u001B[0;32m     82\u001B[0m \u001B[38;5;28;01mfor\u001B[39;00m f_c \u001B[38;5;129;01min\u001B[39;00m jsd_view\u001B[38;5;241m.\u001B[39mdataselectiongroupbox\u001B[38;5;241m.\u001B[39mfile_comboboxes:\n\u001B[0;32m     83\u001B[0m     f_c\u001B[38;5;241m.\u001B[39mcurrentIndexChanged\u001B[38;5;241m.\u001B[39mconnect(\u001B[38;5;28mself\u001B[39m\u001B[38;5;241m.\u001B[39mfile_changed)\n",
      "\u001B[1;31mAttributeError\u001B[0m: 'NoneType' object has no attribute 'add_data_source'"
     ]
    }
   ],
   "execution_count": 1
  },
  {
   "metadata": {
    "collapsed": true,
    "ExecuteTime": {
     "end_time": "2024-11-20T17:29:15.130341Z",
     "start_time": "2024-11-20T17:29:01.588686Z"
    }
   },
   "cell_type": "code",
   "outputs": [
    {
     "ename": "ValueError",
     "evalue": "jsd_view must be a valid JsdWindow instance",
     "output_type": "error",
     "traceback": [
      "\u001B[1;31m---------------------------------------------------------------------------\u001B[0m",
      "\u001B[1;31mValueError\u001B[0m                                Traceback (most recent call last)",
      "Cell \u001B[1;32mIn[2], line 73\u001B[0m\n\u001B[0;32m     70\u001B[0m         \u001B[38;5;28;01mreturn\u001B[39;00m \u001B[38;5;28mself\u001B[39m\u001B[38;5;241m.\u001B[39mlayout\n\u001B[0;32m     72\u001B[0m \u001B[38;5;66;03m# Create instance of JSDController\u001B[39;00m\n\u001B[1;32m---> 73\u001B[0m jsd_controller \u001B[38;5;241m=\u001B[39m \u001B[43mJSDController\u001B[49m\u001B[43m(\u001B[49m\u001B[43mjsd_view\u001B[49m\u001B[38;5;241;43m=\u001B[39;49m\u001B[38;5;28;43;01mNone\u001B[39;49;00m\u001B[43m,\u001B[49m\u001B[43m \u001B[49m\u001B[43mjsd_model\u001B[49m\u001B[38;5;241;43m=\u001B[39;49m\u001B[38;5;28;43;01mNone\u001B[39;49;00m\u001B[43m,\u001B[49m\u001B[43m \u001B[49m\u001B[43mconfig\u001B[49m\u001B[38;5;241;43m=\u001B[39;49m\u001B[38;5;28;43;01mNone\u001B[39;49;00m\u001B[43m)\u001B[49m  \u001B[38;5;66;03m# Placeholder arguments\u001B[39;00m\n\u001B[0;32m     75\u001B[0m \u001B[38;5;66;03m# Create instance of DataSelectionGroupBox\u001B[39;00m\n\u001B[0;32m     76\u001B[0m data_selection_groupbox \u001B[38;5;241m=\u001B[39m DataSelectionGroupBox(jsd_controller)\n",
      "File \u001B[1;32m~\\PycharmProjects\\MIDRC_Diversity_Calculator\\jsdcontroller.py:57\u001B[0m, in \u001B[0;36mJSDController.__init__\u001B[1;34m(self, jsd_view, jsd_model, config)\u001B[0m\n\u001B[0;32m     55\u001B[0m \u001B[38;5;28msuper\u001B[39m()\u001B[38;5;241m.\u001B[39m\u001B[38;5;21m__init__\u001B[39m()\n\u001B[0;32m     56\u001B[0m \u001B[38;5;28;01mif\u001B[39;00m jsd_view \u001B[38;5;129;01mis\u001B[39;00m \u001B[38;5;28;01mNone\u001B[39;00m \u001B[38;5;129;01mor\u001B[39;00m \u001B[38;5;129;01mnot\u001B[39;00m \u001B[38;5;28misinstance\u001B[39m(jsd_view, JsdWindow):\n\u001B[1;32m---> 57\u001B[0m     \u001B[38;5;28;01mraise\u001B[39;00m \u001B[38;5;167;01mValueError\u001B[39;00m(\u001B[38;5;124m\"\u001B[39m\u001B[38;5;124mjsd_view must be a valid JsdWindow instance\u001B[39m\u001B[38;5;124m\"\u001B[39m)\n\u001B[0;32m     58\u001B[0m \u001B[38;5;28;01mif\u001B[39;00m jsd_model \u001B[38;5;129;01mis\u001B[39;00m \u001B[38;5;28;01mNone\u001B[39;00m \u001B[38;5;129;01mor\u001B[39;00m \u001B[38;5;129;01mnot\u001B[39;00m \u001B[38;5;28misinstance\u001B[39m(jsd_model, JSDTableModel):\n\u001B[0;32m     59\u001B[0m     \u001B[38;5;28;01mraise\u001B[39;00m \u001B[38;5;167;01mValueError\u001B[39;00m(\u001B[38;5;124m\"\u001B[39m\u001B[38;5;124mjsd_model must be a valid JSDTableModel instance\u001B[39m\u001B[38;5;124m\"\u001B[39m)\n",
      "\u001B[1;31mValueError\u001B[0m: jsd_view must be a valid JsdWindow instance"
     ]
    }
   ],
   "execution_count": 2,
   "source": [
    "import ipywidgets as widgets\n",
    "from IPython.display import display\n",
    "import matplotlib.pyplot as plt\n",
    "import seaborn as sns\n",
    "import numpy as np\n",
    "import pandas as pd\n",
    "from ipywidgets import VBox, HBox, Label\n",
    "from jsdcontroller import JSDController  # Assuming the backend JSDController is accessible\n",
    "from PySide6.QtCore import Signal, QObject\n",
    "\n",
    "# Define the data selection group box\n",
    "class DataSelectionGroupBox(QObject):\n",
    "    category_changed = Signal(str)\n",
    "    file_selection_changed = Signal()\n",
    "\n",
    "    def __init__(self, jsd_controller):\n",
    "        super().__init__()\n",
    "        self.jsd_controller = jsd_controller\n",
    "        self.file_comboboxes = []\n",
    "        self.category_combobox = widgets.Dropdown(\n",
    "            options=[],\n",
    "            value=None,\n",
    "            description='Attribute:',\n",
    "            disabled=True,\n",
    "        )\n",
    "        self.layout = VBox()\n",
    "        self._setup_layout()\n",
    "        self._initialize_data_sources()\n",
    "\n",
    "        # Connect signals\n",
    "        self.category_combobox.observe(self.on_category_changed, names='value')\n",
    "        for combobox in self.file_comboboxes:\n",
    "            combobox.observe(self.on_file_selection_changed, names='value')\n",
    "\n",
    "    def _setup_layout(self):\n",
    "        self.layout.children = [self.category_combobox]\n",
    "\n",
    "    def _initialize_data_sources(self):\n",
    "        # Initialize file comboboxes based on data sources from JSDController\n",
    "        for index, data_source in enumerate(self.jsd_controller.jsd_model.data_sources.values()):\n",
    "            combobox = widgets.Dropdown(\n",
    "                options=list(data_source.sheets.keys()),\n",
    "                value=list(data_source.sheets.keys())[0],\n",
    "                description=f'Data Source {index + 1}:',\n",
    "                disabled=False\n",
    "            )\n",
    "            self.file_comboboxes.append(combobox)\n",
    "            self.layout.children += (combobox,)\n",
    "            combobox.observe(self.on_file_selection_changed, names='value')\n",
    "        \n",
    "        # Initialize category combobox based on the current data selection\n",
    "        if self.file_comboboxes:\n",
    "            self.update_category_combobox()\n",
    "\n",
    "    def update_category_combobox(self):\n",
    "        # Update category combobox based on selected data sources\n",
    "        selected_sheets = [combobox.value for combobox in self.file_comboboxes]\n",
    "        common_categories = set.intersection(*[set(self.jsd_controller.jsd_model.data_sources[combobox.description].sheets.keys()) for combobox in self.file_comboboxes])\n",
    "        self.category_combobox.options = list(common_categories)\n",
    "        self.category_combobox.disabled = False\n",
    "\n",
    "    def on_category_changed(self, change):\n",
    "        self.category_changed.emit(change['new'])\n",
    "\n",
    "    def on_file_selection_changed(self, change):\n",
    "        self.file_selection_changed.emit()\n",
    "        self.update_category_combobox()\n",
    "\n",
    "    def display(self):\n",
    "        return self.layout\n",
    "\n",
    "# Create instance of DataSelectionGroupBox\n",
    "data_selection_groupbox = DataSelectionGroupBox(jsd_controller)\n",
    "\n",
    "# Define a function to plot the timeline chart\n",
    "def plot_timeline_chart():\n",
    "    plt.figure(figsize=(10, 6))\n",
    "    category = data_selection_groupbox.category_combobox.value\n",
    "    for combobox in data_selection_groupbox.file_comboboxes:\n",
    "        if combobox.value:\n",
    "            file_data = jsd_controller.jsd_model.data_sources[combobox.description].sheets[category].df\n",
    "            sns.lineplot(data=file_data, x=file_data.index, y=category, label=f'{combobox.description}: {category}')\n",
    "    plt.xlabel('Index')\n",
    "    plt.ylabel('Values')\n",
    "    plt.title('JSD Timeline Chart')\n",
    "    plt.grid(True)\n",
    "    plt.legend()\n",
    "    plt.show()\n",
    "\n",
    "# Define button to trigger the timeline chart plotting\n",
    "plot_button = widgets.Button(description='Plot Timeline Chart')\n",
    "output_timeline = widgets.Output()\n",
    "\n",
    "def on_plot_button_clicked(b):\n",
    "    with output_timeline:\n",
    "        output_timeline.clear_output(wait=True)\n",
    "        plot_timeline_chart()\n",
    "\n",
    "plot_button.on_click(on_plot_button_clicked)\n",
    "\n",
    "# Connect the category change signal to automatically update the chart\n",
    "data_selection_groupbox.category_changed.connect(on_plot_button_clicked)\n",
    "\n",
    "# Display the widgets\n",
    "display(data_selection_groupbox.display(), plot_button, output_timeline)\n"
   ],
   "id": "initial_id"
  }
 ],
 "metadata": {
  "kernelspec": {
   "display_name": "Python 3",
   "language": "python",
   "name": "python3"
  },
  "language_info": {
   "codemirror_mode": {
    "name": "ipython",
    "version": 2
   },
   "file_extension": ".py",
   "mimetype": "text/x-python",
   "name": "python",
   "nbconvert_exporter": "python",
   "pygments_lexer": "ipython2",
   "version": "2.7.6"
  }
 },
 "nbformat": 4,
 "nbformat_minor": 5
}
