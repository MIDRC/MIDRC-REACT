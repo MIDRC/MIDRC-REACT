{
 "cells": [
  {
   "metadata": {
    "ExecuteTime": {
     "end_time": "2024-11-25T19:26:27.743877Z",
     "start_time": "2024-11-25T19:26:17.600479Z"
    }
   },
   "cell_type": "code",
   "source": [
    "# import jsdview_base\n",
    "# import jsdcontroller\n",
    "from jsdconfig import JSDConfig\n",
    "from jsdcontroller import JSDController\n",
    "from jsdmodel import JSDTableModel\n",
    "from ipython.jsdview_ipython import JsdViewIPython\n",
    "\n",
    "# import importlib\n",
    "# importlib.reload(jsdview_base)\n",
    "# importlib.reload(jsdcontroller)\n",
    "\n",
    "config = JSDConfig()\n",
    "data_source_list = config.data['data sources']\n",
    "jsd_table_model = JSDTableModel(None, config.data.get('custom age ranges', None))\n",
    "# w = JsdWindow(data_source_list)  # Note: We should have the controller populate this once the tablemodel is loaded\n",
    "jsd_view_base = JsdViewIPython(jsd_table_model)\n",
    "for data_source in data_source_list:\n",
    "    print(data_source)\n",
    "    jsd_view_base.open_excel_file(data_source)\n",
    "jsd_controller = JSDController(jsd_view_base, jsd_table_model, config)\n"
   ],
   "id": "13255c4a805349a",
   "outputs": [
    {
     "name": "stdout",
     "output_type": "stream",
     "text": [
      "{'name': 'MIDRC', 'description': 'MIDRC Excel File', 'data type': 'file', 'filename': 'MIDRC Open A1 and R1 - cumulative by batch.xlsx', 'remove column name text': ['(CUSUM)']}\n",
      "{'name': 'CDC', 'description': 'CDC Excel File', 'data type': 'file', 'filename': 'CDC_COVIDpos - cumulative by month.xlsx'}\n",
      "{'name': 'Census', 'description': 'Census Excel File', 'data type': 'file', 'filename': 'Census_all.xlsx', 'date': '2020-01-01'}\n",
      "{'name': 'MIDRC COVID+', 'description': 'MIDRC COVID+ Excel File', 'data type': 'file', 'filename': 'MIDRC Open A1 and R1 COVIDpos only - cumulative by batch.xlsx', 'remove column name text': ['(CUSUM)']}\n",
      "Plotting timeline chart...\n"
     ]
    },
    {
     "ename": "NameError",
     "evalue": "name 'data_selection_groupbox' is not defined",
     "output_type": "error",
     "traceback": [
      "\u001B[1;31m---------------------------------------------------------------------------\u001B[0m",
      "\u001B[1;31mNameError\u001B[0m                                 Traceback (most recent call last)",
      "File \u001B[1;32m~\\PycharmProjects\\MIDRC_Diversity_Calculator\\jsdcontroller.py:225\u001B[0m, in \u001B[0;36mJSDController.category_changed\u001B[1;34m(self)\u001B[0m\n\u001B[0;32m    215\u001B[0m         column_infos\u001B[38;5;241m.\u001B[39mappend({\n\u001B[0;32m    216\u001B[0m             \u001B[38;5;124m'\u001B[39m\u001B[38;5;124mcategory\u001B[39m\u001B[38;5;124m'\u001B[39m: category,\n\u001B[0;32m    217\u001B[0m             \u001B[38;5;124m'\u001B[39m\u001B[38;5;124mindex1\u001B[39m\u001B[38;5;124m'\u001B[39m: i,\n\u001B[1;32m   (...)\u001B[0m\n\u001B[0;32m    220\u001B[0m             \u001B[38;5;124m'\u001B[39m\u001B[38;5;124mfile2\u001B[39m\u001B[38;5;124m'\u001B[39m: file2,\n\u001B[0;32m    221\u001B[0m         })\n\u001B[0;32m    223\u001B[0m \u001B[38;5;28mself\u001B[39m\u001B[38;5;241m.\u001B[39mjsd_model\u001B[38;5;241m.\u001B[39mupdate_input_data(model_input_data, column_infos)\n\u001B[1;32m--> 225\u001B[0m \u001B[38;5;28;43mself\u001B[39;49m\u001B[38;5;241;43m.\u001B[39;49m\u001B[43mupdate_category_plots\u001B[49m\u001B[43m(\u001B[49m\u001B[43m)\u001B[49m\n\u001B[0;32m    226\u001B[0m \u001B[38;5;28mself\u001B[39m\u001B[38;5;241m.\u001B[39mjsd_model\u001B[38;5;241m.\u001B[39mlayoutChanged\u001B[38;5;241m.\u001B[39memit()\n",
      "File \u001B[1;32m~\\PycharmProjects\\MIDRC_Diversity_Calculator\\jsdcontroller.py:274\u001B[0m, in \u001B[0;36mJSDController.update_category_plots\u001B[1;34m(self)\u001B[0m\n\u001B[0;32m    271\u001B[0m         sheet_dict[i] \u001B[38;5;241m=\u001B[39m \u001B[38;5;28mself\u001B[39m\u001B[38;5;241m.\u001B[39mget_file_sheets_from_index(i)\n\u001B[0;32m    273\u001B[0m \u001B[38;5;28;01mtry\u001B[39;00m:\n\u001B[1;32m--> 274\u001B[0m     \u001B[38;5;28;43mself\u001B[39;49m\u001B[38;5;241;43m.\u001B[39;49m\u001B[43mjsd_view\u001B[49m\u001B[38;5;241;43m.\u001B[39;49m\u001B[43mupdate_jsd_timeline_plot\u001B[49m\u001B[43m(\u001B[49m\u001B[38;5;28;43mself\u001B[39;49m\u001B[38;5;241;43m.\u001B[39;49m\u001B[43mjsd_model\u001B[49m\u001B[43m)\u001B[49m\n\u001B[0;32m    275\u001B[0m     \u001B[38;5;28mself\u001B[39m\u001B[38;5;241m.\u001B[39mjsd_view\u001B[38;5;241m.\u001B[39mupdate_area_chart(sheet_dict)\n\u001B[0;32m    276\u001B[0m     \u001B[38;5;28;01mreturn\u001B[39;00m \u001B[38;5;28;01mTrue\u001B[39;00m\n",
      "File \u001B[1;32m~\\PycharmProjects\\MIDRC_Diversity_Calculator\\ipython\\jsdview_ipython.py:17\u001B[0m, in \u001B[0;36mJsdView_ipython.update_jsd_timeline_plot\u001B[1;34m(self, jsd_model)\u001B[0m\n\u001B[0;32m     15\u001B[0m \u001B[38;5;28mprint\u001B[39m(\u001B[38;5;124m\"\u001B[39m\u001B[38;5;124mPlotting timeline chart...\u001B[39m\u001B[38;5;124m\"\u001B[39m)\n\u001B[0;32m     16\u001B[0m plt\u001B[38;5;241m.\u001B[39mfigure(figsize\u001B[38;5;241m=\u001B[39m(\u001B[38;5;241m10\u001B[39m, \u001B[38;5;241m6\u001B[39m))\n\u001B[1;32m---> 17\u001B[0m category \u001B[38;5;241m=\u001B[39m \u001B[43mdata_selection_groupbox\u001B[49m\u001B[38;5;241m.\u001B[39mcategory_combobox\u001B[38;5;241m.\u001B[39mvalue\n\u001B[0;32m     18\u001B[0m \u001B[38;5;28;01mfor\u001B[39;00m combobox \u001B[38;5;129;01min\u001B[39;00m data_selection_groupbox\u001B[38;5;241m.\u001B[39mfile_comboboxes:\n\u001B[0;32m     19\u001B[0m     \u001B[38;5;28;01mif\u001B[39;00m combobox\u001B[38;5;241m.\u001B[39mvalue:\n",
      "\u001B[1;31mNameError\u001B[0m: name 'data_selection_groupbox' is not defined"
     ]
    },
    {
     "data": {
      "text/plain": [
       "<Figure size 1000x600 with 0 Axes>"
      ]
     },
     "metadata": {},
     "output_type": "display_data"
    }
   ],
   "execution_count": 1
  },
  {
   "metadata": {
    "collapsed": true,
    "ExecuteTime": {
     "end_time": "2024-11-25T14:42:07.985504Z",
     "start_time": "2024-11-25T14:42:07.912281Z"
    }
   },
   "cell_type": "code",
   "source": [
    "import ipywidgets as widgets\n",
    "from IPython.display import display\n",
    "import matplotlib.pyplot as plt\n",
    "import seaborn as sns\n",
    "import numpy as np\n",
    "import pandas as pd\n",
    "from jsdcontroller import JSDController  # Assuming the backend JSDController is accessible\n",
    "from PySide6.QtCore import Signal, QObject\n",
    "\n",
    "'''\n",
    "# Define a function to plot the timeline chart\n",
    "def plot_timeline_chart():\n",
    "    print(\"Plotting timeline chart...\")\n",
    "    plt.figure(figsize=(10, 6))\n",
    "    category = data_selection_groupbox.category_combobox.value\n",
    "    for combobox in data_selection_groupbox.file_comboboxes:\n",
    "        if combobox.value:\n",
    "            try:\n",
    "                print(f\"Processing: {combobox.value}\")\n",
    "                file_data = jsd_controller.jsd_model.data_sources[combobox.value].sheets[category].df\n",
    "                print(file_data.head())  # Debug to see if file_data is accessible\n",
    "                if file_data.empty:\n",
    "                    print(f\"No data available for {combobox.value} and category {category}. Skipping.\")\n",
    "                    continue  # Skip empty data\n",
    "                sns.lineplot(data=file_data, x='date', y=file_data.columns[1], label=f'{combobox.value}: {category} ({file_data.columns[1]})')\n",
    "            except Exception as e:\n",
    "                print(f\"An error occurred while processing {combobox.value}: {e}\")\n",
    "    print('done with this step')\n",
    "    plt.xlabel('Date')\n",
    "    plt.ylabel(f'JSD for Category: {category}')\n",
    "    plt.title('JSD Timeline Chart')\n",
    "    plt.grid(True)\n",
    "    plt.legend()\n",
    "    plt.show()\n",
    "    plt.close()\n",
    "'''\n",
    "\n",
    "# Define button to trigger the timeline chart plotting\n",
    "plot_button = widgets.Button(description='Plot Timeline Chart')\n",
    "output_timeline = widgets.Output()\n",
    "\n",
    "def on_plot_button_clicked(b):\n",
    "    with output_timeline:\n",
    "        output_timeline.clear_output(wait=True)\n",
    "        plot_timeline_chart()\n",
    "\n",
    "plot_button.on_click(on_plot_button_clicked)\n",
    "\n",
    "# Connect the category change signal to automatically update the chart\n",
    "jsd_view_base.data_selection_groupbox.category_changed.connect(jsd_controller.category_changed)\n",
    "# data_selection_groupbox.category_changed.connect(on_plot_button_clicked)\n",
    "\n",
    "# Display the widgets\n",
    "display(jsd_view_base.data_selection_groupbox.display(), plot_button, output_timeline)\n"
   ],
   "id": "initial_id",
   "outputs": [
    {
     "data": {
      "text/plain": [
       "VBox(children=(Dropdown(description='Attribute:', options=('Sex', 'Race', 'Ethnicity', 'Race and Ethnicity', '…"
      ],
      "application/vnd.jupyter.widget-view+json": {
       "version_major": 2,
       "version_minor": 0,
       "model_id": "f6269683e2264678861952d0d7e1794f"
      }
     },
     "metadata": {},
     "output_type": "display_data"
    },
    {
     "data": {
      "text/plain": [
       "Button(description='Plot Timeline Chart', style=ButtonStyle())"
      ],
      "application/vnd.jupyter.widget-view+json": {
       "version_major": 2,
       "version_minor": 0,
       "model_id": "f132bf59bebc4fc2837e6f6d0a86fdf7"
      }
     },
     "metadata": {},
     "output_type": "display_data"
    },
    {
     "data": {
      "text/plain": [
       "Output()"
      ],
      "application/vnd.jupyter.widget-view+json": {
       "version_major": 2,
       "version_minor": 0,
       "model_id": "bbb347e40e684fb8a7d7c1b97109758d"
      }
     },
     "metadata": {},
     "output_type": "display_data"
    }
   ],
   "execution_count": 30
  }
 ],
 "metadata": {
  "kernelspec": {
   "display_name": "Python 3",
   "language": "python",
   "name": "python3"
  },
  "language_info": {
   "codemirror_mode": {
    "name": "ipython",
    "version": 2
   },
   "file_extension": ".py",
   "mimetype": "text/x-python",
   "name": "python",
   "nbconvert_exporter": "python",
   "pygments_lexer": "ipython2",
   "version": "2.7.6"
  }
 },
 "nbformat": 4,
 "nbformat_minor": 5
}
